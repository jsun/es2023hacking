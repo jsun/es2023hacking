{
 "cells": [
  {
   "cell_type": "markdown",
   "metadata": {},
   "source": [
    "# 物体認識"
   ]
  },
  {
   "cell_type": "markdown",
   "metadata": {},
   "source": [
    "PyTorch に実装された標準機能を利用して、画像中に映っている物体の分類を行うモデルを構築・評価を行うサンプルコード。"
   ]
  },
  {
   "cell_type": "markdown",
   "metadata": {},
   "source": [
    "## セットアップ"
   ]
  },
  {
   "cell_type": "code",
   "execution_count": 1,
   "metadata": {},
   "outputs": [],
   "source": [
    "import torch\n",
    "import torchvision\n",
    "\n",
    "\n",
    "device = torch.device('cuda:0' if torch.cuda.is_available() else 'cpu')\n",
    "\n",
    "\n",
    "transform_train = torchvision.transforms.Compose([\n",
    "     torchvision.transforms.RandomCrop(224),\n",
    "     torchvision.transforms.RandomHorizontalFlip(0.5),\n",
    "     torchvision.transforms.RandomAffine(45),\n",
    "     torchvision.transforms.ToTensor(),\n",
    "     torchvision.transforms.Normalize([0.485, 0.456, 0.406], [0.229, 0.224, 0.225])\n",
    "])\n",
    "\n",
    "transform_valid = torchvision.transforms.Compose([\n",
    "     torchvision.transforms.CenterCrop(224),\n",
    "     torchvision.transforms.ToTensor(),\n",
    "     torchvision.transforms.Normalize([0.485, 0.456, 0.406], [0.229, 0.224, 0.225])\n",
    "])\n",
    "\n",
    "\n",
    "train_data_dir = '/data/workshop1/rcait/dataset/citrus/leaves/train'\n",
    "valid_data_dir = '/data/workshop1/rcait/dataset/citrus/leaves/valid'\n",
    "\n",
    "# training dataset\n",
    "trainset = torchvision.datasets.ImageFolder(train_data_dir, transform=transform_train)\n",
    "trainloader = torch.utils.data.DataLoader(trainset, batch_size=32, shuffle=True)\n",
    "\n",
    "# validation dataset\n",
    "validset = torchvision.datasets.ImageFolder(valid_data_dir, transform=transform_valid)\n",
    "validloader = torch.utils.data.DataLoader(validset, batch_size=32, shuffle=False)"
   ]
  },
  {
   "cell_type": "markdown",
   "metadata": {},
   "source": [
    "## モデル構築"
   ]
  },
  {
   "cell_type": "code",
   "execution_count": 3,
   "metadata": {},
   "outputs": [],
   "source": [
    "net = torchvision.models.vgg16(pretrained=True)\n",
    "num_ftrs = net.classifier[6].in_features\n",
    "net.classifier[6] = torch.nn.Linear(num_ftrs, len(trainset.classes))\n",
    "\n",
    "optimizer = torch.optim.Adam(net.parameters(), lr=0.001)\n",
    "criterion = torch.nn.CrossEntropyLoss()\n",
    "net.train()\n",
    "net = net.to(device)\n",
    "\n",
    "for epoch in range(20):\n",
    "    \n",
    "    running_loss = 0.0\n",
    "    n_correct = 0\n",
    "    n_total = 0\n",
    "  \n",
    "    for data in trainloader:\n",
    "\n",
    "        inputs, labels = data\n",
    "        inputs = inputs.to(device)\n",
    "        labels = labels.to(device)\n",
    "\n",
    "        optimizer.zero_grad()\n",
    "\n",
    "        outputs = net(inputs)\n",
    "\n",
    "        _, predicted = torch.max(outputs.data, 1)\n",
    "\n",
    "        res = (predicted == labels)\n",
    "        res = res.sum().item()\n",
    "        n_correct = n_correct + res\n",
    "        n_total = n_total + len(labels)\n",
    "\n",
    "        loss = criterion(outputs, labels)\n",
    "        running_loss +=  loss.item()\n",
    "\n",
    "        loss.backward()\n",
    "        optimizer.step()\n",
    "        \n",
    "    print([running_loss, n_correct / n_total])\n",
    "  "
   ]
  },
  {
   "cell_type": "markdown",
   "metadata": {},
   "source": [
    "## モデル検証"
   ]
  },
  {
   "cell_type": "code",
   "execution_count": null,
   "metadata": {},
   "outputs": [],
   "source": [
    "net.eval()\n",
    "\n",
    "n_correct = 0\n",
    "n_total = 0\n",
    "\n",
    "for data in validloader:\n",
    "    inputs, labels = data\n",
    "    inputs = inputs.to(device)\n",
    "    labels = labels.to(device)\n",
    "\n",
    "    outputs = net(inputs)\n",
    "\n",
    "    _, predicted = torch.max(outputs.data, 1)\n",
    "    \n",
    "    res = (predicted == labels)\n",
    "    res = res.sum().item()\n",
    "\n",
    "    n_correct = n_correct + res\n",
    "    n_total = n_total + len(labels)\n",
    "\n",
    "val_acc = n_correct / n_total\n",
    "print(val_acc)"
   ]
  },
  {
   "cell_type": "markdown",
   "metadata": {},
   "source": [
    "## モデル保存\n"
   ]
  },
  {
   "cell_type": "code",
   "execution_count": null,
   "metadata": {},
   "outputs": [],
   "source": [
    "net = net.to('cpu')\n",
    "torch.save(net.state_dict(), 'vgg16net_weights.pth')"
   ]
  },
  {
   "cell_type": "markdown",
   "metadata": {},
   "source": [
    "## 推論\n"
   ]
  },
  {
   "cell_type": "code",
   "execution_count": null,
   "metadata": {},
   "outputs": [],
   "source": [
    "app = torchvision.models.vgg16(pretrained=False)\n",
    "num_ftrs = app.classifier[6].in_features\n",
    "app.classifier[6] = torch.nn.Linear(num_ftrs, 5)\n",
    "\n",
    "# load weights into the initialized model\n",
    "app.load_state_dict(torch.load('vgg16net_weights.pth'))\n",
    "\n",
    "# change to inference (evaluation) mode\n",
    "app.eval()"
   ]
  },
  {
   "cell_type": "code",
   "execution_count": null,
   "metadata": {},
   "outputs": [],
   "source": [
    "import PIL\n",
    "import numpy as np\n",
    "import matplotlib.pyplot as plt\n",
    "\n",
    "img_path = '/data/workshop1/rcait/dataset/citrus/leaves/valid/healthy/19.pn.png'\n",
    "\n",
    "im = PIL.Image.open(img_path)\n",
    "plt.imshow(np.asarray(im))"
   ]
  },
  {
   "cell_type": "code",
   "execution_count": null,
   "metadata": {},
   "outputs": [],
   "source": [
    "def image_loader(image_path):\n",
    "    im = PIL.Image.open(image_path)\n",
    "    im = transform_valid(im)\n",
    "    im = im.unsqueeze(0)\n",
    "    return im\n",
    "\n",
    "\n",
    "x = image_loader(img_path)\n",
    "output = app(x)\n",
    "\n",
    "print(output)\n",
    "print(trainset.classes)"
   ]
  },
  {
   "cell_type": "code",
   "execution_count": null,
   "metadata": {},
   "outputs": [],
   "source": [
    "prob1 = torch.softmax(output, dim=1).detach().numpy().copy()\n",
    "print(prob1)"
   ]
  },
  {
   "cell_type": "code",
   "execution_count": null,
   "metadata": {},
   "outputs": [],
   "source": [
    "prob2 = torch.sigmoid(output).detach().numpy().copy()\n",
    "print(prob2)"
   ]
  }
 ],
 "metadata": {
  "kernelspec": {
   "display_name": "Python 3 (ipykernel)",
   "language": "python",
   "name": "python3"
  },
  "language_info": {
   "codemirror_mode": {
    "name": "ipython",
    "version": 3
   },
   "file_extension": ".py",
   "mimetype": "text/x-python",
   "name": "python",
   "nbconvert_exporter": "python",
   "pygments_lexer": "ipython3",
   "version": "3.7.12"
  }
 },
 "nbformat": 4,
 "nbformat_minor": 4
}
